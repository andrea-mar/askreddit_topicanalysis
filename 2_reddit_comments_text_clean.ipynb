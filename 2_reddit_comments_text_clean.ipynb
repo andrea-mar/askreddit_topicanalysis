{
 "cells": [
  {
   "cell_type": "code",
   "execution_count": 49,
   "metadata": {},
   "outputs": [],
   "source": [
    "# Global variables \n",
    "DATA_PATH_PQT = \"data/askreddit_whats_your_reason_for_not_drinking_alcohol.parquet\"\n",
    "SAVE_PATH_PQT = \"data/askreddit_whats_your_reason_for_not_drinking_alcohol_clean_text.parquet\""
   ]
  },
  {
   "cell_type": "code",
   "execution_count": 4,
   "metadata": {},
   "outputs": [],
   "source": [
    "from datetime import datetime\n",
    "import pandas as pd"
   ]
  },
  {
   "cell_type": "code",
   "execution_count": 6,
   "metadata": {},
   "outputs": [
    {
     "name": "stdout",
     "output_type": "stream",
     "text": [
      "<class 'pandas.core.frame.DataFrame'>\n",
      "RangeIndex: 19326 entries, 0 to 19325\n",
      "Data columns (total 12 columns):\n",
      " #   Column                Non-Null Count  Dtype         \n",
      "---  ------                --------------  -----         \n",
      " 0   main_submission_id    19326 non-null  object        \n",
      " 1   comment_author        19326 non-null  object        \n",
      " 2   comment_body          19326 non-null  object        \n",
      " 3   comment_id            19326 non-null  object        \n",
      " 4   comment_date_time     19326 non-null  datetime64[ns]\n",
      " 5   comment_score         19326 non-null  int64         \n",
      " 6   comment_parent_id     19326 non-null  object        \n",
      " 7   comment_subreddit     19326 non-null  object        \n",
      " 8   comment_permalink     19326 non-null  object        \n",
      " 9   comment_is_submitter  19326 non-null  bool          \n",
      " 10  comment_replies       19326 non-null  object        \n",
      " 11  comment_depth         19326 non-null  int64         \n",
      "dtypes: bool(1), datetime64[ns](1), int64(2), object(8)\n",
      "memory usage: 1.6+ MB\n"
     ]
    }
   ],
   "source": [
    "comments = pd.read_parquet(DATA_PATH_PQT)\n",
    "comments.info()"
   ]
  },
  {
   "cell_type": "code",
   "execution_count": 7,
   "metadata": {},
   "outputs": [
    {
     "name": "stderr",
     "output_type": "stream",
     "text": [
      "[nltk_data] Downloading package stopwords to\n",
      "[nltk_data]     /Users/andreeanistor/nltk_data...\n",
      "[nltk_data]   Unzipping corpora/stopwords.zip.\n",
      "[nltk_data] Downloading package wordnet to\n",
      "[nltk_data]     /Users/andreeanistor/nltk_data...\n",
      "[nltk_data]   Package wordnet is already up-to-date!\n",
      "[nltk_data] Downloading package omw-1.4 to\n",
      "[nltk_data]     /Users/andreeanistor/nltk_data...\n",
      "[nltk_data] Downloading package averaged_perceptron_tagger to\n",
      "[nltk_data]     /Users/andreeanistor/nltk_data...\n",
      "[nltk_data]   Package averaged_perceptron_tagger is already up-to-\n",
      "[nltk_data]       date!\n"
     ]
    },
    {
     "data": {
      "text/html": [
       "<div>\n",
       "<style scoped>\n",
       "    .dataframe tbody tr th:only-of-type {\n",
       "        vertical-align: middle;\n",
       "    }\n",
       "\n",
       "    .dataframe tbody tr th {\n",
       "        vertical-align: top;\n",
       "    }\n",
       "\n",
       "    .dataframe thead th {\n",
       "        text-align: right;\n",
       "    }\n",
       "</style>\n",
       "<table border=\"1\" class=\"dataframe\">\n",
       "  <thead>\n",
       "    <tr style=\"text-align: right;\">\n",
       "      <th></th>\n",
       "      <th>main_submission_id</th>\n",
       "      <th>comment_author</th>\n",
       "      <th>comment_body</th>\n",
       "      <th>comment_id</th>\n",
       "      <th>comment_date_time</th>\n",
       "      <th>comment_score</th>\n",
       "      <th>comment_parent_id</th>\n",
       "      <th>comment_subreddit</th>\n",
       "      <th>comment_permalink</th>\n",
       "      <th>comment_is_submitter</th>\n",
       "      <th>comment_replies</th>\n",
       "      <th>comment_depth</th>\n",
       "      <th>comment_body_clean</th>\n",
       "    </tr>\n",
       "  </thead>\n",
       "  <tbody>\n",
       "    <tr>\n",
       "      <th>3755</th>\n",
       "      <td>1hg10tp</td>\n",
       "      <td>Mission_Ad8012</td>\n",
       "      <td>https://youtu.be/fdQ-iQbuKJk?feature=shared</td>\n",
       "      <td>m2gyifw</td>\n",
       "      <td>2024-12-17 09:24:51</td>\n",
       "      <td>1</td>\n",
       "      <td>t3_1hg10tp</td>\n",
       "      <td>AskReddit</td>\n",
       "      <td>/r/AskReddit/comments/1hg10tp/whats_your_reaso...</td>\n",
       "      <td>False</td>\n",
       "      <td>[]</td>\n",
       "      <td>0</td>\n",
       "      <td></td>\n",
       "    </tr>\n",
       "    <tr>\n",
       "      <th>9677</th>\n",
       "      <td>1hg10tp</td>\n",
       "      <td>jadewolf456</td>\n",
       "      <td>🤰🏻</td>\n",
       "      <td>m2ihynd</td>\n",
       "      <td>2024-12-17 16:23:37</td>\n",
       "      <td>1</td>\n",
       "      <td>t3_1hg10tp</td>\n",
       "      <td>AskReddit</td>\n",
       "      <td>/r/AskReddit/comments/1hg10tp/whats_your_reaso...</td>\n",
       "      <td>False</td>\n",
       "      <td>[]</td>\n",
       "      <td>0</td>\n",
       "      <td></td>\n",
       "    </tr>\n",
       "    <tr>\n",
       "      <th>10786</th>\n",
       "      <td>1hg10tp</td>\n",
       "      <td>GaizenX</td>\n",
       "      <td>$$$</td>\n",
       "      <td>m2iuw0g</td>\n",
       "      <td>2024-12-17 17:32:18</td>\n",
       "      <td>1</td>\n",
       "      <td>t3_1hg10tp</td>\n",
       "      <td>AskReddit</td>\n",
       "      <td>/r/AskReddit/comments/1hg10tp/whats_your_reaso...</td>\n",
       "      <td>False</td>\n",
       "      <td>[]</td>\n",
       "      <td>0</td>\n",
       "      <td></td>\n",
       "    </tr>\n",
       "    <tr>\n",
       "      <th>14450</th>\n",
       "      <td>1hg10tp</td>\n",
       "      <td>T1m3Wizard</td>\n",
       "      <td>$$$</td>\n",
       "      <td>m2laarg</td>\n",
       "      <td>2024-12-18 01:37:41</td>\n",
       "      <td>1</td>\n",
       "      <td>t3_1hg10tp</td>\n",
       "      <td>AskReddit</td>\n",
       "      <td>/r/AskReddit/comments/1hg10tp/whats_your_reaso...</td>\n",
       "      <td>False</td>\n",
       "      <td>[]</td>\n",
       "      <td>0</td>\n",
       "      <td></td>\n",
       "    </tr>\n",
       "    <tr>\n",
       "      <th>16909</th>\n",
       "      <td>1hg10tp</td>\n",
       "      <td>Careless_Fondant3388</td>\n",
       "      <td>👍😀</td>\n",
       "      <td>m2iat0k</td>\n",
       "      <td>2024-12-17 15:45:01</td>\n",
       "      <td>2</td>\n",
       "      <td>t1_m2ft95c</td>\n",
       "      <td>AskReddit</td>\n",
       "      <td>/r/AskReddit/comments/1hg10tp/whats_your_reaso...</td>\n",
       "      <td>False</td>\n",
       "      <td>[]</td>\n",
       "      <td>1</td>\n",
       "      <td></td>\n",
       "    </tr>\n",
       "    <tr>\n",
       "      <th>17180</th>\n",
       "      <td>1hg10tp</td>\n",
       "      <td>IntrovertedIngenue</td>\n",
       "      <td>🤣🤣🤣🤣🤣</td>\n",
       "      <td>m2ge17o</td>\n",
       "      <td>2024-12-17 05:51:19</td>\n",
       "      <td>10</td>\n",
       "      <td>t1_m2fr16d</td>\n",
       "      <td>AskReddit</td>\n",
       "      <td>/r/AskReddit/comments/1hg10tp/whats_your_reaso...</td>\n",
       "      <td>False</td>\n",
       "      <td>[]</td>\n",
       "      <td>1</td>\n",
       "      <td></td>\n",
       "    </tr>\n",
       "    <tr>\n",
       "      <th>17538</th>\n",
       "      <td>1hg10tp</td>\n",
       "      <td>AlwaysTheGarden</td>\n",
       "      <td>💚💚💚</td>\n",
       "      <td>m2h1yx8</td>\n",
       "      <td>2024-12-17 10:04:34</td>\n",
       "      <td>2</td>\n",
       "      <td>t1_m2ghtxn</td>\n",
       "      <td>AskReddit</td>\n",
       "      <td>/r/AskReddit/comments/1hg10tp/whats_your_reaso...</td>\n",
       "      <td>False</td>\n",
       "      <td>[]</td>\n",
       "      <td>1</td>\n",
       "      <td></td>\n",
       "    </tr>\n",
       "    <tr>\n",
       "      <th>19004</th>\n",
       "      <td>1hg10tp</td>\n",
       "      <td>jaybsuave</td>\n",
       "      <td>🎠🎠</td>\n",
       "      <td>m2itrd1</td>\n",
       "      <td>2024-12-17 17:26:20</td>\n",
       "      <td>3</td>\n",
       "      <td>t1_m2iqwqx</td>\n",
       "      <td>AskReddit</td>\n",
       "      <td>/r/AskReddit/comments/1hg10tp/whats_your_reaso...</td>\n",
       "      <td>False</td>\n",
       "      <td>[]</td>\n",
       "      <td>4</td>\n",
       "      <td></td>\n",
       "    </tr>\n",
       "  </tbody>\n",
       "</table>\n",
       "</div>"
      ],
      "text/plain": [
       "      main_submission_id        comment_author  \\\n",
       "3755             1hg10tp        Mission_Ad8012   \n",
       "9677             1hg10tp           jadewolf456   \n",
       "10786            1hg10tp               GaizenX   \n",
       "14450            1hg10tp            T1m3Wizard   \n",
       "16909            1hg10tp  Careless_Fondant3388   \n",
       "17180            1hg10tp    IntrovertedIngenue   \n",
       "17538            1hg10tp       AlwaysTheGarden   \n",
       "19004            1hg10tp             jaybsuave   \n",
       "\n",
       "                                      comment_body comment_id  \\\n",
       "3755   https://youtu.be/fdQ-iQbuKJk?feature=shared    m2gyifw   \n",
       "9677                                            🤰🏻    m2ihynd   \n",
       "10786                                          $$$    m2iuw0g   \n",
       "14450                                          $$$    m2laarg   \n",
       "16909                                           👍😀    m2iat0k   \n",
       "17180                                        🤣🤣🤣🤣🤣    m2ge17o   \n",
       "17538                                          💚💚💚    m2h1yx8   \n",
       "19004                                           🎠🎠    m2itrd1   \n",
       "\n",
       "        comment_date_time  comment_score comment_parent_id comment_subreddit  \\\n",
       "3755  2024-12-17 09:24:51              1        t3_1hg10tp         AskReddit   \n",
       "9677  2024-12-17 16:23:37              1        t3_1hg10tp         AskReddit   \n",
       "10786 2024-12-17 17:32:18              1        t3_1hg10tp         AskReddit   \n",
       "14450 2024-12-18 01:37:41              1        t3_1hg10tp         AskReddit   \n",
       "16909 2024-12-17 15:45:01              2        t1_m2ft95c         AskReddit   \n",
       "17180 2024-12-17 05:51:19             10        t1_m2fr16d         AskReddit   \n",
       "17538 2024-12-17 10:04:34              2        t1_m2ghtxn         AskReddit   \n",
       "19004 2024-12-17 17:26:20              3        t1_m2iqwqx         AskReddit   \n",
       "\n",
       "                                       comment_permalink  \\\n",
       "3755   /r/AskReddit/comments/1hg10tp/whats_your_reaso...   \n",
       "9677   /r/AskReddit/comments/1hg10tp/whats_your_reaso...   \n",
       "10786  /r/AskReddit/comments/1hg10tp/whats_your_reaso...   \n",
       "14450  /r/AskReddit/comments/1hg10tp/whats_your_reaso...   \n",
       "16909  /r/AskReddit/comments/1hg10tp/whats_your_reaso...   \n",
       "17180  /r/AskReddit/comments/1hg10tp/whats_your_reaso...   \n",
       "17538  /r/AskReddit/comments/1hg10tp/whats_your_reaso...   \n",
       "19004  /r/AskReddit/comments/1hg10tp/whats_your_reaso...   \n",
       "\n",
       "       comment_is_submitter comment_replies  comment_depth comment_body_clean  \n",
       "3755                  False              []              0                     \n",
       "9677                  False              []              0                     \n",
       "10786                 False              []              0                     \n",
       "14450                 False              []              0                     \n",
       "16909                 False              []              1                     \n",
       "17180                 False              []              1                     \n",
       "17538                 False              []              1                     \n",
       "19004                 False              []              4                     "
      ]
     },
     "execution_count": 7,
     "metadata": {},
     "output_type": "execute_result"
    }
   ],
   "source": [
    "from text_cleaning_functions import remove_urls, expand_contractions, remove_img_and_gifs, remove_reddit_references, remove_punctuation, remove_emoticons\n",
    "\n",
    "comments['comment_body_clean'] = comments['comment_body'].apply(remove_urls)\n",
    "comments['comment_body_clean'] = comments['comment_body_clean'].apply(remove_reddit_references)\n",
    "comments['comment_body_clean'] = comments['comment_body_clean'].apply(remove_img_and_gifs)\n",
    "comments['comment_body_clean'] = comments['comment_body_clean'].apply(expand_contractions)\n",
    "comments['comment_body_clean'] = comments['comment_body_clean'].apply(remove_emoticons)\n",
    "comments['comment_body_clean'] = comments['comment_body_clean'].apply(remove_punctuation)  # this function also removes strange characters and repeated chars and lower cases the text\n",
    "\n",
    "# check if after cleaning there are emoty text comments\n",
    "comments[comments['comment_body_clean'] == '']"
   ]
  },
  {
   "cell_type": "code",
   "execution_count": 8,
   "metadata": {},
   "outputs": [
    {
     "data": {
      "text/plain": [
       "count    19326.000000\n",
       "mean       147.690728\n",
       "std        217.054430\n",
       "min          0.000000\n",
       "25%         32.000000\n",
       "50%         81.000000\n",
       "75%        179.000000\n",
       "max       4894.000000\n",
       "Name: comment_body_clean, dtype: float64"
      ]
     },
     "execution_count": 8,
     "metadata": {},
     "output_type": "execute_result"
    }
   ],
   "source": [
    "# check length of clean text in charracters\n",
    "comments['comment_body_clean'].apply(len).describe()"
   ]
  },
  {
   "cell_type": "code",
   "execution_count": 23,
   "metadata": {},
   "outputs": [
    {
     "data": {
      "image/png": "[encoded data removed]",
      "text/plain": [
       "<Figure size 1000x400 with 2 Axes>"
      ]
     },
     "metadata": {},
     "output_type": "display_data"
    }
   ],
   "source": [
    "import matplotlib.pyplot as plt\n",
    "\n",
    "comment_lengths = comments['comment_body_clean'].apply(len)\n",
    "\n",
    "# Create a figure with two subplots side by side\n",
    "plt.figure(figsize=(10, 4))\n",
    "\n",
    "# First plot: box plot showing outliers\n",
    "plt.subplot(1, 2, 1)  # 1 row, 2 columns, first subplot\n",
    "plt.boxplot(comment_lengths, vert=True, showfliers=True)\n",
    "plt.title('Comment Lengths (with Outliers)')\n",
    "plt.ylabel('Number of characters')\n",
    "\n",
    "# Second plot: box plot without outliers\n",
    "plt.subplot(1, 2, 2)  # 1 row, 2 columns, second subplot\n",
    "plt.boxplot(comment_lengths, vert=True, showfliers=False)\n",
    "plt.title('Comment Lengths (without Outliers)')\n",
    "\n",
    "plt.tight_layout()\n",
    "plt.show()\n",
    "\n",
    "\n",
    "#  some comments are very long ( outliers -> these will be truncated in the topic analysys)\n",
    "# most comments between 50 and 200 characters long"
   ]
  },
  {
   "cell_type": "code",
   "execution_count": 26,
   "metadata": {},
   "outputs": [
    {
     "name": "stdout",
     "output_type": "stream",
     "text": [
      "<class 'pandas.core.frame.DataFrame'>\n",
      "RangeIndex: 14858 entries, 0 to 14857\n",
      "Data columns (total 13 columns):\n",
      " #   Column                Non-Null Count  Dtype         \n",
      "---  ------                --------------  -----         \n",
      " 0   main_submission_id    14858 non-null  object        \n",
      " 1   comment_author        14858 non-null  object        \n",
      " 2   comment_body          14858 non-null  object        \n",
      " 3   comment_id            14858 non-null  object        \n",
      " 4   comment_date_time     14858 non-null  datetime64[ns]\n",
      " 5   comment_score         14858 non-null  int64         \n",
      " 6   comment_parent_id     14858 non-null  object        \n",
      " 7   comment_subreddit     14858 non-null  object        \n",
      " 8   comment_permalink     14858 non-null  object        \n",
      " 9   comment_is_submitter  14858 non-null  bool          \n",
      " 10  comment_replies       14858 non-null  object        \n",
      " 11  comment_depth         14858 non-null  int64         \n",
      " 12  comment_body_clean    14858 non-null  object        \n",
      "dtypes: bool(1), datetime64[ns](1), int64(2), object(9)\n",
      "memory usage: 1.4+ MB\n"
     ]
    }
   ],
   "source": [
    "# remove any clean text that has less than 30 characters\n",
    "comments = comments[comments['comment_body_clean'].apply(len) >= 30].reset_index(drop=True)\n",
    "comments.info()\n",
    "\n",
    "# 14858 unique comments included after text cleaning "
   ]
  },
  {
   "cell_type": "code",
   "execution_count": 34,
   "metadata": {},
   "outputs": [
    {
     "data": {
      "text/plain": [
       "'my parents were alchoholics and i only have bad memoroes from it dont want to be the blundering fools they were'"
      ]
     },
     "execution_count": 34,
     "metadata": {},
     "output_type": "execute_result"
    }
   ],
   "source": [
    "# check some random comments to ensure text was clean properly\n",
    "from random import randint\n",
    "\n",
    "n = randint(0, 14857)\n",
    "comments['comment_body_clean'].iloc[n]"
   ]
  },
  {
   "cell_type": "code",
   "execution_count": 46,
   "metadata": {},
   "outputs": [
    {
     "name": "stdout",
     "output_type": "stream",
     "text": [
      "       comment_author    comment_body_clean\n",
      "  690  MrVermin          i drank heavily since high school and i have been to rehab 3 times am now 32 there is a multitude of reasons i cut it out of my life forever like money messes my job my wife etc but the main reason i am sober now is because of my final rehab visit all 3 times i let myself slip and get to the point of physical addiction where i needed alcohol every hour of the day otherwise i would start withdrawing immediate shaking cold sweats nausea loss of balance brain fog searing pains in random places paranoia increased heart rate and blood pressure feelings of impending doom the fun stuff well all of that was not enough to get me to put the bottle down because i was severely depressed and was praying that i would just pass out one day and never wake up that never happened years passed and i tried inpatient rehab a couple of times after randomly feeling motivated to quit and because i knew i would die if i tried cold turkey but i quickly went back to drinking as soon as i started thinking about suicide again alcohol made that voice in the back of my head chill out a little bit met my wife 6 years ago and she stuck with me after seeing me at my worst and understood the vicious cycle i was suffering with she knew i wanted to quit and needed to quit if i wanted to live past 30 so i went to rehab one last time for her well when we got to the inpatient rehab night time about pm and they breathalyzed me i blew a 4 and realized how fucked i was mind you according to everyone there i was showing zero signs of being impaired that was how drunk i had to be on a daily basis just to act normally believe it or not most people thought i was drunk when the withdrawals would kick in and not when i was hammered then they took my vitals gave me some benzos and blood pressure meds took me to my rehab room and told me to go to sleep sleep obviously did not happen the benzos they gave me did nothing to stave off the withdrawals and boy did they hit me like a mother fucking freight train could not sit still because my heart rate was sky rocketing could not stop sweating and shaking but still felt like i was freezing to death or overheating could not walk without a wall to hang on and my adrenaline was through the roof if you are physically dependent on alcohol withdrawal feels like this constantly and only relents when you consume more alcohol or take benzodiazapines do not worry though it gets worse next day the delirium kicked in full throttle i remember all of it but way too much happened to post it here highlights were death metal playing in the walls voices whispering in my ears shadow people the hat man bunk mates that were not really there but it felt like a deju moment where they had always been there my dead dog watching me outside of the window hearing my wife is voice around corners calling to me and more i knew i was hallucinating and delirious but i had zero control over it all of this while also going through the other side effects of withdrawal then i hit my breaking point and left in the middle of the night wife was not happy to get a phone call from me at 3am telling her that something was chasing me and i was in the bushes hiding from it outside of the facility wife drove 90mph to get there and when she found me she dragged me back up to the place and yelled at the staff that let me out turns out once a patient leaves they are not allowed back in for 3 days because the place did not want to someone to go get something they should not have and try to bring it back in this did not make her any happier still love my wife for driving down to get my feral ass and being an asshole to me the entire way to the er and honestly the er saved my life i went in looking like i walked into the wrong kind of hospital but my wife explained everything to them while i was trying to educate them with multidimensional theories about the hat man i do not know what they gave me specifically but i felt completely back to normal within 30ish minutes tired as hell and nauseous but normal then the doc gave me a script for benzos instructions for in home rehab and sent me on my merry way got clean within 4 days dunno what exactly the doctor gave me because my wife was handling the pills but it was way stronger than what they gave me at the rehab did not have any side effects and the withdrawal symptoms were so much easier to deal with either way i never want to drink again i know if i do i will just get back to that point faster and it will be worse kinda stops being enjoyable when it brings back horrible memories and can kill you dunno if anyone will read this but thanks if you did also keep an eye on your friends if they are drinking heavily everyone thinks they can handle it but i have slipped into that hole more than once and it can actually kill you to crawl out of it and get sober if you do not do it safely and preferably under supervision\n",
      " 7587  Sunnyfishyfish    had an aunt abandon her kids twice throughout their lives due to her alcoholism literally told them to have a nice life when they were like 5 and left the first time i guess the father put his foot down and said the kids or the alcohol and she chose poorly later came to live with us under the guise of attempting to sober up but caused all kinds of drama to distract from her sneaking drinks for example she tried to turn my dad against my mom and then tried to turn my parents against me for playing video games she also went into the kitchen and completely rearranged what stuff was in what drawer one night oh and she also would just walk around the house as naked as the day she came onto this earth stuff like that my parents kicked her out eventually due to the drama and the enabling it was causing same thing happened with my dad is other sister is house she eventually got stage 4 throat cancer beat it and was told that if she had one more drink in her extremely weakened state that her liver would not be able to handle it and she should die she had one more drink her liver failed and she died growing up i had two best friends who lived next door with an alcoholic mom she would commonly go out get extremely drunk and bring men home one of those men was a violent drunk and they ended up beating the shit out of each other with screwdrivers the tools not the drink in front of the kids the kids had to stay with us for awhile while the police sorted all that out that was just one of the examples i remember and i moved away from that area when i was like i unfortunately went to a catholic high school 0 10 do not recommend i got a terrible education there anyways i never drank from the cup due to it being alcohol do not believe the bs that the wine is not alcoholic once the priest says his words it is i just kissed the cup one school mass i went to kiss the cup and apparently the teacher took offense to that and up ended the cup so a sizeable portion went onto my face a hole after that day and until i left religion altogether i started just passing the wine holder and not even approaching them when my mom passed my dad dove head first into a whiskey bottle when he was drunk he had zero filter fit the stereotype of people giving up secrets easier when drunk and he would say shit like i do not think you miss your mother and you never loved your mother i was a momma is kid and her sudden death hit me hard so that hurt when my gf now wife had to live with us for a bit due to the local college sky rocketing their dorm rates he would get drunk and tell her i was making a huge mistake getting engaged to her and make fun of her weight and shit like that he went from being the nicest dude imaginable to being a complete a hole he now denies all of that but he was probably so drunk he did not remember any of it oh he would also insist he was not drunk when he was and get behind the wheel how he only got one dui and never hurt anyone i do not know that could have changed i have not had much contact with him the past couple years so uh yeah i have had only negative experiences with alcohol makes me never want to put that crap in my body i have never been drunk never had more than a sip of the crap beyond that one jerk teacher and never want to be honestly my opinion is so extreme that the only thing i want to do when i see an alcoholic beverage is take it go to the nearest toilet empty the can bottle whatever into it and flush no matter the price or how long it was aged or whatever wine aged for 500 years and passed down 10 generations toilet jesus is real and literally came back and changed water to wine cool toilet turn it into something more useful like water sorry kind of rambled even the topic of alcohol makes me angry edit oh yeah remembered another example my mom is ex husband was a violent drunk and would beat the shit out of her and then one day he divorced her and left her on the side of the street with her cat and nothing else to her name she then got a bf who also turned out to be the same way until my dad saw this man beating her up once and beat the shit out of him it was not how my mom and dad met but it was part of why they started dating\n",
      "13237  AnelehM13         not to sound like nothat guy but please trust that one thing you will not regret is stopping drinking as an age 30f i chose to cut down drinking age 24 ish with just accidental drunk evening age 26 where i had two cocktails and ended up drunk as i had even less aka zero tolerance i just did not have time to be hungover my mental and physical health was always worse for it now i have not drank anything for about 5 years i was diagnosed adhd last year then autistic this year so a lot makes sense now plus previous therapy and emdr helped after waiting for it i drank because that is what we all did it was sometimes fun until it was not i was depressed and very low age 17 for a few years drank too much when going out yes in a bingey way that no one noticed as we all did it i just could not handle it as i was a lightweight i lost a lot of time and progress but i am at peace with that as i have got older as what is the point wasting more time dwelling you will not ever regret stopping drinking also dealt with an unsettled household one parent trying their best to support their mother who had progressed alzheimer is also have a dad who still drinks too much but it is never interfered with his work life somehow and has always done it to iswitch off instead of finding better ways to relax after work each night so maybe it was a modelled behaviour for me to drink maybe seeing it also helped me stop at a younger age than some people can blah blah people get sober at 40 etc so it is whenever it is right for you and whenever you feel ready to be like if someone wants someone to stop smoking the smoker has to be ready so it is great you have come to the decision congratulations on 30 days a kind and wonderful therapist told me you might always have depression anxiety etc but it will just fade and fade away becoming dormant and it will take up less of you i admitted i used to drink for the wrong reasons too being vulnerable when i was a young attractive woman was not the one either at age 24 25 i was definitely the odd one out for not drinking at that age apart from at work where most of the clinicians and staff were muslim so it was nice as a young white female to not be questioned all of the time about going out or if i was not drinking because i was unwell or boring or pregnant nope just can not handle it the alcohol or the cloud of shame sadness and anxiety it brought i stopped drinking age 25 as i did not want to be getting taxis trains back on my own or missing out on things or not remembering gigs or just staying home because i did not have a safe way home so i drove i lost friends too it is horrid but in a few years you will perhaps realise that you were all quite young really so there is no blame on your or anyone and if there was it is long ago so it does not matter now i was a big pop punk and hardcore fan back then so a lot of the gigs and people i spoke to were straight edge so i found it helpful to completely cut out alcohol so i personally had it more clear cut like a 100 all or nothing attitude i guess so you could if you feel tempted to drink think about your own personal reasons for not drinking just do not shame yourself i went to a festival this year where the 00 non alcoholic beer sold out in 15 days as people were driving there but also because of an aging crowd and drinking is expensive it is not as trendy as it was even of my clients now who are around age 30 there are plenty of people who are perfectly normal funny attractive etc who have stopped drinking or wouldo not really drink what i am trying to say is by sharing this waffle story is some people might not understand sobriety until they are older but if it makes sense for you then that is all that matters you can even say ah i am not drinking tonight etc rather than having to say sober if you do not want to and as for drinking at home just do not buy it in think how tempting a big bag of crisps or chocolate is when someone is trying to diet or just feeling crap except alcohol actually makes you feel shit and ruins lives my dad was a professional brewer for a few years and when i was younger i went to cute cider beer tasting stuff in the dales and cotswolds so i have not always been against alcohol btw seriously once you can occupy yourself for a few minutes hours video games study even doom scroll the thought of drinking pulling you and tempting you will disappear take one day at a time also people just stop asking eventually and just leave you to it and your confidence will grow as you keep doing things like studying living and you will not feel like you need the alcohol or want it\n",
      "13944  AnelehM13         and as for drinking at home just do not buy it in think how tempting a big bag of crisps or chocolate is when someone is trying to diet or just feeling crap except alcohol actually makes you feel shit and ruins lives my dad was a professional brewer for a few years and when i was younger i went to cute cider beer tasting stuff in the dales and cotswolds so i have not always been against alcohol btw seriously once you can occupy yourself for a few minutes hours video games study even doom scroll the thought of drinking pulling you and tempting you will disappear take one day at a time also people just stop asking eventually and just leave you to it and your confidence will grow as you keep doing things like studying living and you will not feel like you need the alcohol or want it alcohol numbs the feelings but will only numb them whilst in your system until they come up again you might feel more anger sadness emotion as in the first few months of being sober you may start processing a lot that you would have numbed before so please be kind to yourself i personally only get the thought in a negative sense a couple times a year nowadays to have a drink for example when i am having a bad time even though i would not have classed myself as an alcoholic sometimes it makes me frown and laugh like um you do not like drinking girly that is not what you actually want is it just just need a break so do not ever feel bad for getting the thought of drinking some people can not have one drink without getting the flavour or finishing the bottle or feeling more low so they say f it and neck the whole thing seeing people is kids scared of them because they are drunk also put me off for if i were to to ever have kids or baby sit it just changes people so much a couple times a year when things are bad stress is high i feel alone etc i still get what feel like innate cravings going down the path more well trodden is often the easy route but craving out a new route ie not drinking can be done one day at a time i have an alcoholic best friend who is a couple years older than me who has been sober for 4 months and after the final drunken event that nearly cost them everything they stopped drinking started aa meetings and i believe that they really will not drink again ever through going to aa she is told me that it is a mixed crowd of people of all ages even from age 20 up to 2 and all economic backgrounds it does not choose who it affects a lot of the stories she is told me that have been shared are from more daily drinkers than occasional severe bingers like herself but it is still cool to hear about people is stories some sad some funny and life experiences plus it gives her a sense of not being alone i have lost friends and lots because of lots of reasons pushing people away is my worst habit people can be sober for 2 years etc a d they will have a bad event that leads them to have a drink but it does not erase all of the effort of their achievement of being sober for however long each day at a time i found i was more at peace and calm not all the time obvs but generally after a while of not drinking and that is something they have actually talked about in her meetings which surprised me as i had not linked the two together for me before god grant me serenity is one of her quotes sobriety can be the serenity i am more iserene but love even heavier music now than ever etc so sober does not mean being boring or anything is missing either whenever you feel like you want a drink or noto get smashed etc try to think what you actually need for me usually it is just a day off without feeling responsible or time on my own time doing something i enjoy the aa app is free and might help you maybe my friend is an atheist so when reading the aa stuff it mentions god which we can not personally relate to but some religious people at her meetings and the person who leads them have kindly said that if you do not have a god then when it says god in the texts to think of a higher power could be nature could be something science based ie space being vast could be yourself etc i am sorry for waffling this must be the most i have wrote in years but i just could not scroll past this one please do not think i am giving unsolicited advice or anything i am not meaning to offend or anything either i am but a stranger on the internet who does not know you or your struggles i just like to help people and have personal and close friend experience with alcohol problems and mental health maybe someone can relate sometimes the desire to change just slaps you in the face like wow i could change this for me like i could actually feel a bit better i think you are doing brilliantly and yes you should be proud you are doing your best now best wishes h\n",
      "14389  Carenbear01       thank you i appreciate it a lot i am doing better than i was he got so bad and mean i was suicidal last year but my kids saved me in an intervention he got so narcissistic it was awful i saw two people in one person he could be so loving and then flip on a dime to the devil i am older than him and been through a marriage already too and life is way more than drinking yourself to death he always use to say i wish i could just have one or two drinks like you and walk away i said if you love me and yourself you can and if you want a healthy good life i thought i could fix him and i tried so much it affected me too the guy i am with now is younger too lol but it doesn t matter what age alcoholism doesn t pick an age i cried many nights asking why won t he listen to me i fell in love with the good him and i hated the bad him i still hurt so much but my new guy is making me forget more and he doesn t drink at all just smokes weed and i can handle that way more not everyone is bad that drinks i know and my kids can handle drinking and so can i if i chose too on occasion i used to say everything in moderation no matter what it is i like stories like yours that turn out to be good and love stories i wish he was smarter and more mature but he s not his ex ex gf gave him a week before he goes back to prison i was generous and said three months his family is the cause of things too in his life when he was younger and where they didn t give him the love he needed like my kids i am ok and i am so lucky to have such amazing kids and i even have grandkids now too they know they are lucky to have such caring wonderful parents too cause he did t have that growing up so i tried to understand it all he was ignored and his mother would run off with men when he was age 10 and leave him to fend for himself then he found friends who drank all the time so he did too he didn t even see his year old daughter since she was born that didn t stop his drinking though i don t believe it will again waiting to hear from him for his stuff but he manipulated me too so that wasn t love but he says it was the drugs and alcohol i am an empath and i don t will bad things on anyone and i am also a motherly type person but i feel i failed helping him for a long time until my counselor said it wasn t you it s him and he controls his destiny it s so sad to me things were so good and than three months after his tether came off he was at the party store buying booze and hiding it from me and than he didn t care and it was an up and down roller coaster of hell for me i am still healing to this day and i have bad days and good days but i am glad i made it through the worst of it with him i even helped him get a job and drove him to work and picked him up he was doing so good and then that first drink did it i actually don t like going to bars yet because it reminds me to much of the night i was choked i have one walking distance and i sometimes walk my dog and i see the people drinking a lot and acting like he did before the mean part comes out i always think are you heading towards the mean part to torment someone who loves you too i just wonder i was reading lots of these comments about people quitting drinking and i don t know them but i am proud of them because i know it must be a struggle i have anxiety depression adult adhd but it s under control now fibromyalgia chronic fatigue ibs and chronic pain so i know everyone has things going on in their lives they struggle with that s why i tried so hard to understand alcoholism i tried 7 years and it just took me down to nothing with him i still feel i failed because he s young and my kids are young and i brought them up and guided them so i thought i could him too but i couldn t just having a hard time with that part blaming part on myself maybe i didn t try hard enough or maybe way too much to where it aggravated the situation and he thought i was trying to control him i tread lightly and i don t say anything to anyone anymore except take care of me i learned some valuable lessons in life with an alcoholic sorry that was a book again i will always love him no matter what but i am hurt angry and sad i won t forget the traumas though he put me through for those 7 years people need to think what they do to others too when they drink so much they not only hurt themselves they hurt others too your wife should be very proud of you and feel lucky to have you too for all these years men like you don t come around that often i know it s part of growing up too with anyone and becoming a man or woman and taking responsibility for yourself and your actions in life ty and take care\n"
     ]
    }
   ],
   "source": [
    "# check the very long comments\n",
    "from tabulate import tabulate\n",
    "\n",
    "long_comments = comments[comments['comment_body_clean'].apply(len) >= 4000][['comment_author', 'comment_body_clean']]\n",
    "print(tabulate(long_comments.head(), headers='keys', tablefmt='plain'))"
   ]
  },
  {
   "cell_type": "code",
   "execution_count": 50,
   "metadata": {},
   "outputs": [],
   "source": [
    "# save the clean dataset\n",
    "comments.to_parquet(SAVE_PATH_PQT, engine='pyarrow')"
   ]
  }
 ],
 "metadata": {
  "kernelspec": {
   "display_name": "askreddit_topics",
   "language": "python",
   "name": "python3"
  },
  "language_info": {
   "codemirror_mode": {
    "name": "ipython",
    "version": 3
   },
   "file_extension": ".py",
   "mimetype": "text/x-python",
   "name": "python",
   "nbconvert_exporter": "python",
   "pygments_lexer": "ipython3",
   "version": "3.11.8"
  }
 },
 "nbformat": 4,
 "nbformat_minor": 2
}
